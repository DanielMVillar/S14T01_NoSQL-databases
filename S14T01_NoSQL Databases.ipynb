{
 "cells": [
  {
   "cell_type": "code",
   "execution_count": null,
   "id": "77590caa",
   "metadata": {},
   "outputs": [],
   "source": [
    "#we install mongo db community server in the PC\n",
    "#https://www.mongodb.com/try/download/community?tck=docs_server\n",
    "\n",
    "#we install mongodb connection module for python\n",
    "#!pip install pymongo"
   ]
  },
  {
   "cell_type": "code",
   "execution_count": 1,
   "id": "a5419063",
   "metadata": {},
   "outputs": [],
   "source": [
    "#importing python libraries and modules\n",
    "\n",
    "#libraries & modules\n",
    "import pandas as pd #library for dataframes \n",
    "import warnings #library to manage warnings\n",
    "import pymongo\n",
    "from pymongo import MongoClient\n",
    "\n",
    "warnings.filterwarnings('ignore')"
   ]
  },
  {
   "cell_type": "markdown",
   "id": "278138da",
   "metadata": {},
   "source": [
    "### Exercici 1 (Nivell 1)\n",
    "#### Crea una base de dades NoSQL utilitzant MongoDB. Afegeix-li algunes dades d'exemple que et permetin comprovar que ets capaç de processar-ne la informació de manera bàsica."
   ]
  },
  {
   "cell_type": "markdown",
   "id": "b8e7e174",
   "metadata": {},
   "source": [
    "### Exercici 2 (Nivell 1)\n",
    "#### Connecta la base de dades NoSQL a Python utilitzant per exemple pymongo."
   ]
  },
  {
   "cell_type": "code",
   "execution_count": 2,
   "id": "3410baa1",
   "metadata": {},
   "outputs": [
    {
     "data": {
      "text/plain": [
       "Database(MongoClient(host=['localhost:27017'], document_class=dict, tz_aware=False, connect=True), 'musicdatabase')"
      ]
     },
     "execution_count": 2,
     "metadata": {},
     "output_type": "execute_result"
    }
   ],
   "source": [
    "#we create the database in the server and connect to python using pymongo\n",
    "myclient = pymongo.MongoClient(\"mongodb://localhost:27017/\")\n",
    "musicdb = myclient[\"musicdatabase\"]\n",
    "musicdb"
   ]
  },
  {
   "cell_type": "code",
   "execution_count": 3,
   "id": "f482ba0b",
   "metadata": {},
   "outputs": [
    {
     "name": "stdout",
     "output_type": "stream",
     "text": [
      "<pymongo.results.InsertOneResult object at 0x00000264305621C0>\n"
     ]
    }
   ],
   "source": [
    "#we create a collection (it is similar to a table in SQL) \n",
    "mycol = musicdb[\"albums\"]\n",
    "\n",
    "#we insert a document (JSON like) into the collection. A document in MongoDB is the same as a record in SQL databases.\n",
    "albumdata = { \"title\": \"Enchantment\", \"composer\": \"Chris Spheeris & Paul Voudouris\", \"duration\": \"49:15\", \"year\":1992}\n",
    "x = mycol.insert_one(albumdata)\n",
    "print(x)"
   ]
  },
  {
   "cell_type": "code",
   "execution_count": 4,
   "id": "26774b8d",
   "metadata": {},
   "outputs": [
    {
     "name": "stdout",
     "output_type": "stream",
     "text": [
      "The database exists.\n",
      "The collection exists.\n"
     ]
    }
   ],
   "source": [
    "#we print the database to check that it exists\n",
    "dblist = myclient.list_database_names()\n",
    "if \"musicdatabase\" in dblist:\n",
    "  print(\"The database exists.\")\n",
    "\n",
    "#we print the collections to check that it exists\n",
    "collist = musicdb.list_collection_names()\n",
    "if \"albums\" in collist:\n",
    "  print(\"The collection exists.\")\n"
   ]
  },
  {
   "cell_type": "code",
   "execution_count": 5,
   "id": "1262953e",
   "metadata": {},
   "outputs": [
    {
     "name": "stdout",
     "output_type": "stream",
     "text": [
      "[ObjectId('627e803382408d167474ef6c'), ObjectId('627e803382408d167474ef6d'), ObjectId('627e803382408d167474ef6e')]\n"
     ]
    }
   ],
   "source": [
    "#we insert several documents\n",
    "albumlist = [\n",
    "    {\"title\": \"Échate un cantecito\", \"composer\": \"Kiko Veneno\", \"duration\": \"43:33\", \"year\":1992},\n",
    "    {\"title\": \"Silk Road\", \"composer\": \"Kitaro\", \"duration\": \"55:32\", \"year\":1984},\n",
    "    {\"title\": \"19 días y 500  noches\", \"composer\": \"Joaquín Sabina\", \"duration\": \"52:24\", \"year\":1999}\n",
    "]\n",
    "y = mycol.insert_many(albumlist)\n",
    "print(y.inserted_ids)"
   ]
  },
  {
   "cell_type": "code",
   "execution_count": 6,
   "id": "cd494371",
   "metadata": {},
   "outputs": [
    {
     "name": "stdout",
     "output_type": "stream",
     "text": [
      "{'_id': ObjectId('627e801482408d167474ef6b'), 'title': 'Enchantment', 'composer': 'Chris Spheeris & Paul Voudouris', 'duration': '49:15', 'year': 1992}\n",
      "{'_id': ObjectId('627e803382408d167474ef6c'), 'title': 'Échate un cantecito', 'composer': 'Kiko Veneno', 'duration': '43:33', 'year': 1992}\n",
      "{'_id': ObjectId('627e803382408d167474ef6d'), 'title': 'Silk Road', 'composer': 'Kitaro', 'duration': '55:32', 'year': 1984}\n",
      "{'_id': ObjectId('627e803382408d167474ef6e'), 'title': '19 días y 500  noches', 'composer': 'Joaquín Sabina', 'duration': '52:24', 'year': 1999}\n"
     ]
    }
   ],
   "source": [
    "#it returns all documents from the collection\n",
    "for x in mycol.find():\n",
    "  print(x)"
   ]
  },
  {
   "cell_type": "code",
   "execution_count": 7,
   "id": "0ccb5a75",
   "metadata": {},
   "outputs": [
    {
     "name": "stdout",
     "output_type": "stream",
     "text": [
      "{'title': 'Enchantment', 'composer': 'Chris Spheeris & Paul Voudouris', 'duration': '49:15', 'year': 1992}\n",
      "{'title': 'Échate un cantecito', 'composer': 'Kiko Veneno', 'duration': '43:33', 'year': 1992}\n",
      "{'title': 'Silk Road', 'composer': 'Kitaro', 'duration': '55:32', 'year': 1984}\n",
      "{'title': '19 días y 500  noches', 'composer': 'Joaquín Sabina', 'duration': '52:24', 'year': 1999}\n"
     ]
    }
   ],
   "source": [
    "#it returns data except for id\n",
    "for x in mycol.find({},{ \"_id\": 0}):\n",
    "  print(x)"
   ]
  },
  {
   "cell_type": "code",
   "execution_count": 8,
   "id": "3a14c745",
   "metadata": {},
   "outputs": [
    {
     "name": "stdout",
     "output_type": "stream",
     "text": [
      "{'_id': ObjectId('627e801482408d167474ef6b'), 'title': 'Enchantment', 'composer': 'Chris Spheeris & Paul Voudouris', 'duration': '49:15', 'year': 1992}\n",
      "{'_id': ObjectId('627e803382408d167474ef6c'), 'title': 'Échate un cantecito', 'composer': 'Kiko Veneno', 'duration': '43:33', 'year': 1992}\n"
     ]
    }
   ],
   "source": [
    "#find data using a query (by year)\n",
    "dataquery = { \"year\": 1992 }\n",
    "yearfilter = mycol.find(dataquery)\n",
    "\n",
    "for x in yearfilter:\n",
    "  print(x)"
   ]
  },
  {
   "cell_type": "code",
   "execution_count": 9,
   "id": "41feda6d",
   "metadata": {},
   "outputs": [
    {
     "name": "stdout",
     "output_type": "stream",
     "text": [
      "{'_id': ObjectId('627e803382408d167474ef6d'), 'title': 'Silk Road', 'composer': 'Kitaro', 'duration': '55:32', 'year': 1984}\n",
      "{'_id': ObjectId('627e801482408d167474ef6b'), 'title': 'Enchantment', 'composer': 'Chris Spheeris & Paul Voudouris', 'duration': '49:15', 'year': 1992}\n",
      "{'_id': ObjectId('627e803382408d167474ef6c'), 'title': 'Échate un cantecito', 'composer': 'Kiko Veneno', 'duration': '43:33', 'year': 1992}\n",
      "{'_id': ObjectId('627e803382408d167474ef6e'), 'title': '19 días y 500  noches', 'composer': 'Joaquín Sabina', 'duration': '52:24', 'year': 1999}\n"
     ]
    }
   ],
   "source": [
    "#sorting data (by year)\n",
    "yearsorted = mycol.find().sort(\"year\")\n",
    "\n",
    "for x in yearsorted:\n",
    "  print(x)"
   ]
  },
  {
   "cell_type": "markdown",
   "id": "09ba5f0a",
   "metadata": {},
   "source": [
    "### Exercici 1 (Nivell 2)\n",
    "#### Carrega algunes consultes senzilles a un Pandas Dataframe. "
   ]
  },
  {
   "cell_type": "code",
   "execution_count": 10,
   "id": "23818b40",
   "metadata": {},
   "outputs": [
    {
     "data": {
      "text/html": [
       "<div>\n",
       "<style scoped>\n",
       "    .dataframe tbody tr th:only-of-type {\n",
       "        vertical-align: middle;\n",
       "    }\n",
       "\n",
       "    .dataframe tbody tr th {\n",
       "        vertical-align: top;\n",
       "    }\n",
       "\n",
       "    .dataframe thead th {\n",
       "        text-align: right;\n",
       "    }\n",
       "</style>\n",
       "<table border=\"1\" class=\"dataframe\">\n",
       "  <thead>\n",
       "    <tr style=\"text-align: right;\">\n",
       "      <th></th>\n",
       "      <th>_id</th>\n",
       "      <th>title</th>\n",
       "      <th>composer</th>\n",
       "      <th>duration</th>\n",
       "      <th>year</th>\n",
       "    </tr>\n",
       "  </thead>\n",
       "  <tbody>\n",
       "    <tr>\n",
       "      <th>0</th>\n",
       "      <td>627e801482408d167474ef6b</td>\n",
       "      <td>Enchantment</td>\n",
       "      <td>Chris Spheeris &amp; Paul Voudouris</td>\n",
       "      <td>49:15</td>\n",
       "      <td>1992</td>\n",
       "    </tr>\n",
       "    <tr>\n",
       "      <th>1</th>\n",
       "      <td>627e803382408d167474ef6c</td>\n",
       "      <td>Échate un cantecito</td>\n",
       "      <td>Kiko Veneno</td>\n",
       "      <td>43:33</td>\n",
       "      <td>1992</td>\n",
       "    </tr>\n",
       "    <tr>\n",
       "      <th>2</th>\n",
       "      <td>627e803382408d167474ef6d</td>\n",
       "      <td>Silk Road</td>\n",
       "      <td>Kitaro</td>\n",
       "      <td>55:32</td>\n",
       "      <td>1984</td>\n",
       "    </tr>\n",
       "    <tr>\n",
       "      <th>3</th>\n",
       "      <td>627e803382408d167474ef6e</td>\n",
       "      <td>19 días y 500  noches</td>\n",
       "      <td>Joaquín Sabina</td>\n",
       "      <td>52:24</td>\n",
       "      <td>1999</td>\n",
       "    </tr>\n",
       "  </tbody>\n",
       "</table>\n",
       "</div>"
      ],
      "text/plain": [
       "                        _id                  title  \\\n",
       "0  627e801482408d167474ef6b            Enchantment   \n",
       "1  627e803382408d167474ef6c    Échate un cantecito   \n",
       "2  627e803382408d167474ef6d              Silk Road   \n",
       "3  627e803382408d167474ef6e  19 días y 500  noches   \n",
       "\n",
       "                          composer duration  year  \n",
       "0  Chris Spheeris & Paul Voudouris    49:15  1992  \n",
       "1                      Kiko Veneno    43:33  1992  \n",
       "2                           Kitaro    55:32  1984  \n",
       "3                   Joaquín Sabina    52:24  1999  "
      ]
     },
     "execution_count": 10,
     "metadata": {},
     "output_type": "execute_result"
    }
   ],
   "source": [
    "#we query all data to put it inside a dataframe\n",
    "allalbums = musicdb[\"albums\"].find()\n",
    "albums_df =  pd.DataFrame(list(allalbums))\n",
    "albums_df"
   ]
  },
  {
   "cell_type": "code",
   "execution_count": 11,
   "id": "3e10f180",
   "metadata": {},
   "outputs": [
    {
     "data": {
      "text/html": [
       "<div>\n",
       "<style scoped>\n",
       "    .dataframe tbody tr th:only-of-type {\n",
       "        vertical-align: middle;\n",
       "    }\n",
       "\n",
       "    .dataframe tbody tr th {\n",
       "        vertical-align: top;\n",
       "    }\n",
       "\n",
       "    .dataframe thead th {\n",
       "        text-align: right;\n",
       "    }\n",
       "</style>\n",
       "<table border=\"1\" class=\"dataframe\">\n",
       "  <thead>\n",
       "    <tr style=\"text-align: right;\">\n",
       "      <th></th>\n",
       "      <th>_id</th>\n",
       "      <th>title</th>\n",
       "      <th>composer</th>\n",
       "      <th>duration</th>\n",
       "      <th>year</th>\n",
       "    </tr>\n",
       "  </thead>\n",
       "  <tbody>\n",
       "    <tr>\n",
       "      <th>0</th>\n",
       "      <td>627e801482408d167474ef6b</td>\n",
       "      <td>Enchantment</td>\n",
       "      <td>Chris Spheeris &amp; Paul Voudouris</td>\n",
       "      <td>49:15</td>\n",
       "      <td>1992</td>\n",
       "    </tr>\n",
       "    <tr>\n",
       "      <th>1</th>\n",
       "      <td>627e803382408d167474ef6c</td>\n",
       "      <td>Échate un cantecito</td>\n",
       "      <td>Kiko Veneno</td>\n",
       "      <td>43:33</td>\n",
       "      <td>1992</td>\n",
       "    </tr>\n",
       "  </tbody>\n",
       "</table>\n",
       "</div>"
      ],
      "text/plain": [
       "                        _id                title  \\\n",
       "0  627e801482408d167474ef6b          Enchantment   \n",
       "1  627e803382408d167474ef6c  Échate un cantecito   \n",
       "\n",
       "                          composer duration  year  \n",
       "0  Chris Spheeris & Paul Voudouris    49:15  1992  \n",
       "1                      Kiko Veneno    43:33  1992  "
      ]
     },
     "execution_count": 11,
     "metadata": {},
     "output_type": "execute_result"
    }
   ],
   "source": [
    "#we query albums by year to put it inside a dataframe\n",
    "dataquery = { \"year\": 1992 }\n",
    "albums92 = musicdb[\"albums\"].find(dataquery)\n",
    "albums92_df =  pd.DataFrame(list(albums92))\n",
    "albums92_df"
   ]
  },
  {
   "cell_type": "code",
   "execution_count": 12,
   "id": "bd372ea6",
   "metadata": {},
   "outputs": [
    {
     "name": "stdout",
     "output_type": "stream",
     "text": [
      "4  documents deleted.\n"
     ]
    }
   ],
   "source": [
    "#after testing we delete all documents\n",
    "x = mycol.delete_many({})\n",
    "\n",
    "print(x.deleted_count, \" documents deleted.\")"
   ]
  },
  {
   "cell_type": "code",
   "execution_count": 14,
   "id": "ec0bb11e",
   "metadata": {},
   "outputs": [],
   "source": [
    "#dafter testing we delete the collection\n",
    "y = mycol.drop()"
   ]
  },
  {
   "cell_type": "markdown",
   "id": "903983c7",
   "metadata": {},
   "source": [
    "### Exercici 1 (Nivell 3)\n",
    "#### Genera un resum estadístic de la informació que conté la base de dades."
   ]
  },
  {
   "cell_type": "code",
   "execution_count": 15,
   "id": "fa0e57d4",
   "metadata": {},
   "outputs": [
    {
     "data": {
      "text/html": [
       "<div>\n",
       "<style scoped>\n",
       "    .dataframe tbody tr th:only-of-type {\n",
       "        vertical-align: middle;\n",
       "    }\n",
       "\n",
       "    .dataframe tbody tr th {\n",
       "        vertical-align: top;\n",
       "    }\n",
       "\n",
       "    .dataframe thead th {\n",
       "        text-align: right;\n",
       "    }\n",
       "</style>\n",
       "<table border=\"1\" class=\"dataframe\">\n",
       "  <thead>\n",
       "    <tr style=\"text-align: right;\">\n",
       "      <th></th>\n",
       "      <th>_id</th>\n",
       "      <th>title</th>\n",
       "      <th>composer</th>\n",
       "      <th>duration</th>\n",
       "      <th>year</th>\n",
       "    </tr>\n",
       "  </thead>\n",
       "  <tbody>\n",
       "    <tr>\n",
       "      <th>0</th>\n",
       "      <td>627e801482408d167474ef6b</td>\n",
       "      <td>Enchantment</td>\n",
       "      <td>Chris Spheeris &amp; Paul Voudouris</td>\n",
       "      <td>49:15</td>\n",
       "      <td>1992</td>\n",
       "    </tr>\n",
       "    <tr>\n",
       "      <th>1</th>\n",
       "      <td>627e803382408d167474ef6c</td>\n",
       "      <td>Échate un cantecito</td>\n",
       "      <td>Kiko Veneno</td>\n",
       "      <td>43:33</td>\n",
       "      <td>1992</td>\n",
       "    </tr>\n",
       "    <tr>\n",
       "      <th>2</th>\n",
       "      <td>627e803382408d167474ef6d</td>\n",
       "      <td>Silk Road</td>\n",
       "      <td>Kitaro</td>\n",
       "      <td>55:32</td>\n",
       "      <td>1984</td>\n",
       "    </tr>\n",
       "    <tr>\n",
       "      <th>3</th>\n",
       "      <td>627e803382408d167474ef6e</td>\n",
       "      <td>19 días y 500  noches</td>\n",
       "      <td>Joaquín Sabina</td>\n",
       "      <td>52:24</td>\n",
       "      <td>1999</td>\n",
       "    </tr>\n",
       "  </tbody>\n",
       "</table>\n",
       "</div>"
      ],
      "text/plain": [
       "                        _id                  title  \\\n",
       "0  627e801482408d167474ef6b            Enchantment   \n",
       "1  627e803382408d167474ef6c    Échate un cantecito   \n",
       "2  627e803382408d167474ef6d              Silk Road   \n",
       "3  627e803382408d167474ef6e  19 días y 500  noches   \n",
       "\n",
       "                          composer duration  year  \n",
       "0  Chris Spheeris & Paul Voudouris    49:15  1992  \n",
       "1                      Kiko Veneno    43:33  1992  \n",
       "2                           Kitaro    55:32  1984  \n",
       "3                   Joaquín Sabina    52:24  1999  "
      ]
     },
     "execution_count": 15,
     "metadata": {},
     "output_type": "execute_result"
    }
   ],
   "source": [
    "#we can use the pandas methods to obtain information from the database\n",
    "albums_df.head()"
   ]
  },
  {
   "cell_type": "code",
   "execution_count": 16,
   "id": "73a0409e",
   "metadata": {},
   "outputs": [
    {
     "name": "stdout",
     "output_type": "stream",
     "text": [
      "<class 'pandas.core.frame.DataFrame'>\n",
      "RangeIndex: 4 entries, 0 to 3\n",
      "Data columns (total 5 columns):\n",
      " #   Column    Non-Null Count  Dtype \n",
      "---  ------    --------------  ----- \n",
      " 0   _id       4 non-null      object\n",
      " 1   title     4 non-null      object\n",
      " 2   composer  4 non-null      object\n",
      " 3   duration  4 non-null      object\n",
      " 4   year      4 non-null      int64 \n",
      "dtypes: int64(1), object(4)\n",
      "memory usage: 288.0+ bytes\n"
     ]
    }
   ],
   "source": [
    "albums_df.info()"
   ]
  },
  {
   "cell_type": "code",
   "execution_count": 17,
   "id": "ea746d9b",
   "metadata": {},
   "outputs": [
    {
     "data": {
      "text/html": [
       "<div>\n",
       "<style scoped>\n",
       "    .dataframe tbody tr th:only-of-type {\n",
       "        vertical-align: middle;\n",
       "    }\n",
       "\n",
       "    .dataframe tbody tr th {\n",
       "        vertical-align: top;\n",
       "    }\n",
       "\n",
       "    .dataframe thead th {\n",
       "        text-align: right;\n",
       "    }\n",
       "</style>\n",
       "<table border=\"1\" class=\"dataframe\">\n",
       "  <thead>\n",
       "    <tr style=\"text-align: right;\">\n",
       "      <th></th>\n",
       "      <th>year</th>\n",
       "    </tr>\n",
       "  </thead>\n",
       "  <tbody>\n",
       "    <tr>\n",
       "      <th>count</th>\n",
       "      <td>4.000000</td>\n",
       "    </tr>\n",
       "    <tr>\n",
       "      <th>mean</th>\n",
       "      <td>1991.750000</td>\n",
       "    </tr>\n",
       "    <tr>\n",
       "      <th>std</th>\n",
       "      <td>6.130525</td>\n",
       "    </tr>\n",
       "    <tr>\n",
       "      <th>min</th>\n",
       "      <td>1984.000000</td>\n",
       "    </tr>\n",
       "    <tr>\n",
       "      <th>25%</th>\n",
       "      <td>1990.000000</td>\n",
       "    </tr>\n",
       "    <tr>\n",
       "      <th>50%</th>\n",
       "      <td>1992.000000</td>\n",
       "    </tr>\n",
       "    <tr>\n",
       "      <th>75%</th>\n",
       "      <td>1993.750000</td>\n",
       "    </tr>\n",
       "    <tr>\n",
       "      <th>max</th>\n",
       "      <td>1999.000000</td>\n",
       "    </tr>\n",
       "  </tbody>\n",
       "</table>\n",
       "</div>"
      ],
      "text/plain": [
       "              year\n",
       "count     4.000000\n",
       "mean   1991.750000\n",
       "std       6.130525\n",
       "min    1984.000000\n",
       "25%    1990.000000\n",
       "50%    1992.000000\n",
       "75%    1993.750000\n",
       "max    1999.000000"
      ]
     },
     "execution_count": 17,
     "metadata": {},
     "output_type": "execute_result"
    }
   ],
   "source": [
    "albums_df.describe()"
   ]
  }
 ],
 "metadata": {
  "kernelspec": {
   "display_name": "Python 3 (ipykernel)",
   "language": "python",
   "name": "python3"
  },
  "language_info": {
   "codemirror_mode": {
    "name": "ipython",
    "version": 3
   },
   "file_extension": ".py",
   "mimetype": "text/x-python",
   "name": "python",
   "nbconvert_exporter": "python",
   "pygments_lexer": "ipython3",
   "version": "3.9.7"
  }
 },
 "nbformat": 4,
 "nbformat_minor": 5
}
